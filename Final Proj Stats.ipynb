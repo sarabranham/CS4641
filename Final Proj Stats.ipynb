{
 "cells": [
  {
   "cell_type": "code",
   "execution_count": 44,
   "metadata": {
    "collapsed": false
   },
   "outputs": [],
   "source": [
    "import pandas as pd\n",
    "import matplotlib\n",
    "import matplotlib.pyplot as plt\n",
    "import numpy as np\n",
    "\n",
    "%matplotlib inline"
   ]
  },
  {
   "cell_type": "code",
   "execution_count": 187,
   "metadata": {
    "collapsed": false
   },
   "outputs": [
    {
     "data": {
      "text/html": [
       "<div>\n",
       "<style>\n",
       "    .dataframe thead tr:only-child th {\n",
       "        text-align: right;\n",
       "    }\n",
       "\n",
       "    .dataframe thead th {\n",
       "        text-align: left;\n",
       "    }\n",
       "\n",
       "    .dataframe tbody tr th {\n",
       "        vertical-align: top;\n",
       "    }\n",
       "</style>\n",
       "<table border=\"1\" class=\"dataframe\">\n",
       "  <thead>\n",
       "    <tr style=\"text-align: right;\">\n",
       "      <th></th>\n",
       "      <th>age</th>\n",
       "      <th>type_employer</th>\n",
       "      <th>eduation</th>\n",
       "      <th>education_num</th>\n",
       "      <th>marital</th>\n",
       "      <th>occupation</th>\n",
       "      <th>relationship</th>\n",
       "      <th>race</th>\n",
       "      <th>sex</th>\n",
       "      <th>capital_gain</th>\n",
       "      <th>capital_loss</th>\n",
       "      <th>hr_per_week</th>\n",
       "      <th>country</th>\n",
       "      <th>income</th>\n",
       "    </tr>\n",
       "  </thead>\n",
       "  <tbody>\n",
       "    <tr>\n",
       "      <th>0</th>\n",
       "      <td>39</td>\n",
       "      <td>State-gov</td>\n",
       "      <td>Bachelors</td>\n",
       "      <td>13</td>\n",
       "      <td>Never-married</td>\n",
       "      <td>Adm-clerical</td>\n",
       "      <td>Not-in-family</td>\n",
       "      <td>White</td>\n",
       "      <td>Male</td>\n",
       "      <td>2174</td>\n",
       "      <td>0</td>\n",
       "      <td>40</td>\n",
       "      <td>United-States</td>\n",
       "      <td>&lt;=50K</td>\n",
       "    </tr>\n",
       "    <tr>\n",
       "      <th>1</th>\n",
       "      <td>50</td>\n",
       "      <td>Self-emp-not-inc</td>\n",
       "      <td>Bachelors</td>\n",
       "      <td>13</td>\n",
       "      <td>Married-civ-spouse</td>\n",
       "      <td>Exec-managerial</td>\n",
       "      <td>Husband</td>\n",
       "      <td>White</td>\n",
       "      <td>Male</td>\n",
       "      <td>0</td>\n",
       "      <td>0</td>\n",
       "      <td>13</td>\n",
       "      <td>United-States</td>\n",
       "      <td>&lt;=50K</td>\n",
       "    </tr>\n",
       "    <tr>\n",
       "      <th>2</th>\n",
       "      <td>38</td>\n",
       "      <td>Private</td>\n",
       "      <td>HS-grad</td>\n",
       "      <td>9</td>\n",
       "      <td>Divorced</td>\n",
       "      <td>Handlers-cleaners</td>\n",
       "      <td>Not-in-family</td>\n",
       "      <td>White</td>\n",
       "      <td>Male</td>\n",
       "      <td>0</td>\n",
       "      <td>0</td>\n",
       "      <td>40</td>\n",
       "      <td>United-States</td>\n",
       "      <td>&lt;=50K</td>\n",
       "    </tr>\n",
       "    <tr>\n",
       "      <th>3</th>\n",
       "      <td>53</td>\n",
       "      <td>Private</td>\n",
       "      <td>11th</td>\n",
       "      <td>7</td>\n",
       "      <td>Married-civ-spouse</td>\n",
       "      <td>Handlers-cleaners</td>\n",
       "      <td>Husband</td>\n",
       "      <td>Black</td>\n",
       "      <td>Male</td>\n",
       "      <td>0</td>\n",
       "      <td>0</td>\n",
       "      <td>40</td>\n",
       "      <td>United-States</td>\n",
       "      <td>&lt;=50K</td>\n",
       "    </tr>\n",
       "    <tr>\n",
       "      <th>4</th>\n",
       "      <td>28</td>\n",
       "      <td>Private</td>\n",
       "      <td>Bachelors</td>\n",
       "      <td>13</td>\n",
       "      <td>Married-civ-spouse</td>\n",
       "      <td>Prof-specialty</td>\n",
       "      <td>Wife</td>\n",
       "      <td>Black</td>\n",
       "      <td>Female</td>\n",
       "      <td>0</td>\n",
       "      <td>0</td>\n",
       "      <td>40</td>\n",
       "      <td>Cuba</td>\n",
       "      <td>&lt;=50K</td>\n",
       "    </tr>\n",
       "  </tbody>\n",
       "</table>\n",
       "</div>"
      ],
      "text/plain": [
       "   age      type_employer    eduation  education_num              marital  \\\n",
       "0   39          State-gov   Bachelors             13        Never-married   \n",
       "1   50   Self-emp-not-inc   Bachelors             13   Married-civ-spouse   \n",
       "2   38            Private     HS-grad              9             Divorced   \n",
       "3   53            Private        11th              7   Married-civ-spouse   \n",
       "4   28            Private   Bachelors             13   Married-civ-spouse   \n",
       "\n",
       "           occupation    relationship    race      sex  capital_gain  \\\n",
       "0        Adm-clerical   Not-in-family   White     Male          2174   \n",
       "1     Exec-managerial         Husband   White     Male             0   \n",
       "2   Handlers-cleaners   Not-in-family   White     Male             0   \n",
       "3   Handlers-cleaners         Husband   Black     Male             0   \n",
       "4      Prof-specialty            Wife   Black   Female             0   \n",
       "\n",
       "   capital_loss  hr_per_week         country  income  \n",
       "0             0           40   United-States   <=50K  \n",
       "1             0           13   United-States   <=50K  \n",
       "2             0           40   United-States   <=50K  \n",
       "3             0           40   United-States   <=50K  \n",
       "4             0           40            Cuba   <=50K  "
      ]
     },
     "execution_count": 187,
     "metadata": {},
     "output_type": "execute_result"
    }
   ],
   "source": [
    "# Read in the dataset\n",
    "df = pd.read_csv(\"adult.data.csv\", header=0)\n",
    "df.head()"
   ]
  },
  {
   "cell_type": "code",
   "execution_count": 41,
   "metadata": {
    "collapsed": false
   },
   "outputs": [
    {
     "data": {
      "text/html": [
       "<div>\n",
       "<style>\n",
       "    .dataframe thead tr:only-child th {\n",
       "        text-align: right;\n",
       "    }\n",
       "\n",
       "    .dataframe thead th {\n",
       "        text-align: left;\n",
       "    }\n",
       "\n",
       "    .dataframe tbody tr th {\n",
       "        vertical-align: top;\n",
       "    }\n",
       "</style>\n",
       "<table border=\"1\" class=\"dataframe\">\n",
       "  <thead>\n",
       "    <tr style=\"text-align: right;\">\n",
       "      <th></th>\n",
       "      <th>age</th>\n",
       "      <th>education_num</th>\n",
       "      <th>capital_gain</th>\n",
       "      <th>capital_loss</th>\n",
       "      <th>hr_per_week</th>\n",
       "    </tr>\n",
       "  </thead>\n",
       "  <tbody>\n",
       "    <tr>\n",
       "      <th>count</th>\n",
       "      <td>32561.000000</td>\n",
       "      <td>32561.000000</td>\n",
       "      <td>32561.000000</td>\n",
       "      <td>32561.000000</td>\n",
       "      <td>32561.000000</td>\n",
       "    </tr>\n",
       "    <tr>\n",
       "      <th>mean</th>\n",
       "      <td>38.581647</td>\n",
       "      <td>10.080679</td>\n",
       "      <td>1077.648844</td>\n",
       "      <td>87.303830</td>\n",
       "      <td>40.437456</td>\n",
       "    </tr>\n",
       "    <tr>\n",
       "      <th>std</th>\n",
       "      <td>13.640433</td>\n",
       "      <td>2.572720</td>\n",
       "      <td>7385.292085</td>\n",
       "      <td>402.960219</td>\n",
       "      <td>12.347429</td>\n",
       "    </tr>\n",
       "    <tr>\n",
       "      <th>min</th>\n",
       "      <td>17.000000</td>\n",
       "      <td>1.000000</td>\n",
       "      <td>0.000000</td>\n",
       "      <td>0.000000</td>\n",
       "      <td>1.000000</td>\n",
       "    </tr>\n",
       "    <tr>\n",
       "      <th>25%</th>\n",
       "      <td>28.000000</td>\n",
       "      <td>9.000000</td>\n",
       "      <td>0.000000</td>\n",
       "      <td>0.000000</td>\n",
       "      <td>40.000000</td>\n",
       "    </tr>\n",
       "    <tr>\n",
       "      <th>50%</th>\n",
       "      <td>37.000000</td>\n",
       "      <td>10.000000</td>\n",
       "      <td>0.000000</td>\n",
       "      <td>0.000000</td>\n",
       "      <td>40.000000</td>\n",
       "    </tr>\n",
       "    <tr>\n",
       "      <th>75%</th>\n",
       "      <td>48.000000</td>\n",
       "      <td>12.000000</td>\n",
       "      <td>0.000000</td>\n",
       "      <td>0.000000</td>\n",
       "      <td>45.000000</td>\n",
       "    </tr>\n",
       "    <tr>\n",
       "      <th>max</th>\n",
       "      <td>90.000000</td>\n",
       "      <td>16.000000</td>\n",
       "      <td>99999.000000</td>\n",
       "      <td>4356.000000</td>\n",
       "      <td>99.000000</td>\n",
       "    </tr>\n",
       "  </tbody>\n",
       "</table>\n",
       "</div>"
      ],
      "text/plain": [
       "                age  education_num  capital_gain  capital_loss   hr_per_week\n",
       "count  32561.000000   32561.000000  32561.000000  32561.000000  32561.000000\n",
       "mean      38.581647      10.080679   1077.648844     87.303830     40.437456\n",
       "std       13.640433       2.572720   7385.292085    402.960219     12.347429\n",
       "min       17.000000       1.000000      0.000000      0.000000      1.000000\n",
       "25%       28.000000       9.000000      0.000000      0.000000     40.000000\n",
       "50%       37.000000      10.000000      0.000000      0.000000     40.000000\n",
       "75%       48.000000      12.000000      0.000000      0.000000     45.000000\n",
       "max       90.000000      16.000000  99999.000000   4356.000000     99.000000"
      ]
     },
     "execution_count": 41,
     "metadata": {},
     "output_type": "execute_result"
    }
   ],
   "source": [
    "# Trim all trailing/leading whitespace (makes equality cleaner)\n",
    "df.type_employer = df.type_employer.str.strip()\n",
    "df.eduation = df.eduation.str.strip()\n",
    "df.marital = df.marital.str.strip()\n",
    "df.occupation = df.occupation.str.strip()\n",
    "df.relationship = df.relationship.str.strip()\n",
    "df.race = df.race.str.strip()\n",
    "df.sex = df.sex.str.strip()\n",
    "df.country = df.country.str.strip()\n",
    "df.income = df.income.str.strip()\n",
    "#print(df.type_employer[0], df.eduation[0], df.marital[0], df.occupation[0], df.relationship[0], df.race[0], df.sex[0])\n",
    "\n",
    "df.describe()"
   ]
  },
  {
   "cell_type": "code",
   "execution_count": 45,
   "metadata": {
    "collapsed": false
   },
   "outputs": [
    {
     "data": {
      "text/plain": [
       "<matplotlib.axes._subplots.AxesSubplot at 0x1124cf9b0>"
      ]
     },
     "execution_count": 45,
     "metadata": {},
     "output_type": "execute_result"
    },
    {
     "data": {
      "image/png": "[encoded data removed]",
      "text/plain": [
       "<matplotlib.figure.Figure at 0x115c3f940>"
      ]
     },
     "metadata": {},
     "output_type": "display_data"
    }
   ],
   "source": [
    "df.age.hist()"
   ]
  },
  {
   "cell_type": "code",
   "execution_count": 46,
   "metadata": {
    "collapsed": false
   },
   "outputs": [
    {
     "data": {
      "text/plain": [
       "<matplotlib.axes._subplots.AxesSubplot at 0x112726898>"
      ]
     },
     "execution_count": 46,
     "metadata": {},
     "output_type": "execute_result"
    },
    {
     "data": {
      "image/png": "[encoded data removed]",
      "text/plain": [
       "<matplotlib.figure.Figure at 0x11271df28>"
      ]
     },
     "metadata": {},
     "output_type": "display_data"
    }
   ],
   "source": [
    "df.education_num.hist()"
   ]
  },
  {
   "cell_type": "code",
   "execution_count": 47,
   "metadata": {
    "collapsed": false
   },
   "outputs": [
    {
     "data": {
      "text/plain": [
       "<matplotlib.axes._subplots.AxesSubplot at 0x110e9d630>"
      ]
     },
     "execution_count": 47,
     "metadata": {},
     "output_type": "execute_result"
    },
    {
     "data": {
      "image/png": "[encoded data removed]",
      "text/plain": [
       "<matplotlib.figure.Figure at 0x110ea8c18>"
      ]
     },
     "metadata": {},
     "output_type": "display_data"
    }
   ],
   "source": [
    "df.hr_per_week.hist()"
   ]
  },
  {
   "cell_type": "code",
   "execution_count": null,
   "metadata": {
    "collapsed": false
   },
   "outputs": [],
   "source": []
  },
  {
   "cell_type": "code",
   "execution_count": 165,
   "metadata": {
    "collapsed": false
   },
   "outputs": [],
   "source": [
    "def makeMatrixPlot(attribute, u):\n",
    "    d = dict()\n",
    "    for i in range(len(u)):\n",
    "        d[u[i]] = [df.loc[(attribute == u[i]) & (df.income == '<=50K')].shape[0], \n",
    "                   df.loc[(attribute == u[i]) & (df.income == '>50K')].shape[0],\n",
    "                   df.loc[(attribute == u[i])].shape[0]]\n",
    "    Y = [None] * len(d)\n",
    "    X = np.zeros(len(d))\n",
    "    i = 0\n",
    "    for key, value in d.items():\n",
    "        Y[i] = key\n",
    "        d[key][0] = d[key][0] / d[key][2]\n",
    "        d[key][1] = d[key][1] / d[key][2]\n",
    "        X[i] = d[key][0]\n",
    "        i+=1\n",
    "    fig, ax = plt.subplots(1,1) \n",
    "    plt.bar(range(len(Y)),X)\n",
    "    ax.set_xticks(range(len(Y)))\n",
    "    ax.set_xticklabels(Y, rotation='vertical', fontsize=10)\n",
    "    fig.show()\n",
    "    return d\n",
    "\n",
    "def makeMatrix(attribute, u):\n",
    "    d = dict()\n",
    "    for i in range(len(u)):\n",
    "        d[u[i]] = [df.loc[(attribute == u[i]) & (df.income == '<=50K')].shape[0], \n",
    "                   df.loc[(attribute == u[i]) & (df.income == '>50K')].shape[0],\n",
    "                   df.loc[(attribute == u[i])].shape[0]]\n",
    "    for key, value in d.items():\n",
    "        d[key][0] = d[key][0] / d[key][2]\n",
    "        d[key][1] = d[key][1] / d[key][2]\n",
    "    return d"
   ]
  },
  {
   "cell_type": "code",
   "execution_count": 166,
   "metadata": {
    "collapsed": false
   },
   "outputs": [
    {
     "name": "stderr",
     "output_type": "stream",
     "text": [
      "/Library/Frameworks/Python.framework/Versions/3.6/lib/python3.6/site-packages/matplotlib/figure.py:402: UserWarning: matplotlib is currently using a non-GUI backend, so cannot show the figure\n",
      "  \"matplotlib is currently using a non-GUI backend, \"\n"
     ]
    },
    {
     "data": {
      "text/plain": [
       "{'Female': [0.8905394113824158, 0.10946058861758426, 10771],\n",
       " 'Male': [0.6942634235888022, 0.3057365764111978, 21790]}"
      ]
     },
     "execution_count": 166,
     "metadata": {},
     "output_type": "execute_result"
    },
    {
     "data": {
      "image/png": "[encoded data removed]",
      "text/plain": [
       "<matplotlib.figure.Figure at 0x111e49080>"
      ]
     },
     "metadata": {},
     "output_type": "display_data"
    }
   ],
   "source": [
    "genderMatrix = makeMatrixPlot(df.sex, df.sex.unique())\n",
    "genderMatrix\n",
    "# Males are almost 20% more likely to make over 50k\n",
    "# Might be more influenced by women having less school / different types of jobs"
   ]
  },
  {
   "cell_type": "code",
   "execution_count": 154,
   "metadata": {
    "collapsed": false
   },
   "outputs": [
    {
     "data": {
      "image/png": "[encoded data removed]",
      "text/plain": [
       "<matplotlib.figure.Figure at 0x11215ff60>"
      ]
     },
     "metadata": {},
     "output_type": "display_data"
    }
   ],
   "source": [
    "ageMatrix = makeMatrix(df.age, df.age.unique())\n",
    "Y = np.zeros(len(ageMatrix))\n",
    "X = np.zeros(len(ageMatrix))\n",
    "i = 0\n",
    "for key, value in ageMatrix.items():\n",
    "    Y[i] = key\n",
    "    X[i] = ageMatrix[key][0]\n",
    "    i+=1\n",
    "plt.bar(Y, X)\n",
    "plt.show()\n",
    "# Not sure if we can make any big conclusions about this because it's\n",
    "# reasonable for people 30-60 to peak in their career and make more money"
   ]
  },
  {
   "cell_type": "code",
   "execution_count": 181,
   "metadata": {
    "collapsed": false
   },
   "outputs": [
    {
     "name": "stderr",
     "output_type": "stream",
     "text": [
      "/Library/Frameworks/Python.framework/Versions/3.6/lib/python3.6/site-packages/matplotlib/figure.py:402: UserWarning: matplotlib is currently using a non-GUI backend, so cannot show the figure\n",
      "  \"matplotlib is currently using a non-GUI backend, \"\n"
     ]
    },
    {
     "data": {
      "text/plain": [
       "{'Amer-Indian-Eskimo': [0.8842443729903537, 0.1157556270096463, 311],\n",
       " 'Asian-Pac-Islander': [0.7343599615014437, 0.26564003849855633, 1039],\n",
       " 'Black': [0.8761203585147247, 0.12387964148527529, 3124],\n",
       " 'Other': [0.9077490774907749, 0.09225092250922509, 271],\n",
       " 'White': [0.7441400632729365, 0.2558599367270636, 27816]}"
      ]
     },
     "execution_count": 181,
     "metadata": {},
     "output_type": "execute_result"
    },
    {
     "data": {
      "image/png": "[encoded data removed]",
      "text/plain": [
       "<matplotlib.figure.Figure at 0x1116f5048>"
      ]
     },
     "metadata": {},
     "output_type": "display_data"
    }
   ],
   "source": [
    "raceMatrix = makeMatrixPlot(df.race, df.race.unique())\n",
    "raceMatrix\n",
    "# We can reasonably conclude that white/asian people\n",
    "# are more likely to make more money, but (like gender) we \n",
    "# may want to supplement with job type/education\n",
    "# because there could be contextual explanations"
   ]
  },
  {
   "cell_type": "code",
   "execution_count": 175,
   "metadata": {
    "collapsed": false
   },
   "outputs": [
    {
     "data": {
      "image/png": "[encoded data removed]",
      "text/plain": [
       "<matplotlib.figure.Figure at 0x111da84e0>"
      ]
     },
     "metadata": {},
     "output_type": "display_data"
    },
    {
     "data": {
      "text/plain": [
       "{1: [1.0, 0.0, 51],\n",
       " 2: [0.9642857142857143, 0.03571428571428571, 168],\n",
       " 3: [0.9519519519519519, 0.04804804804804805, 333],\n",
       " 4: [0.9380804953560371, 0.06191950464396285, 646],\n",
       " 5: [0.9474708171206225, 0.05252918287937743, 514],\n",
       " 6: [0.9335476956055734, 0.06645230439442658, 933],\n",
       " 7: [0.948936170212766, 0.05106382978723404, 1175],\n",
       " 8: [0.9237875288683602, 0.07621247113163972, 433],\n",
       " 9: [0.8404913817731645, 0.15950861822683554, 10501],\n",
       " 10: [0.809765464271019, 0.19023453572898094, 7291],\n",
       " 11: [0.7387843704775687, 0.26121562952243127, 1382],\n",
       " 12: [0.7516401124648547, 0.24835988753514526, 1067],\n",
       " 13: [0.5852474323062559, 0.4147525676937442, 5355],\n",
       " 14: [0.4434126523505514, 0.5565873476494486, 1723],\n",
       " 15: [0.265625, 0.734375, 576],\n",
       " 16: [0.25907990314769974, 0.7409200968523002, 413]}"
      ]
     },
     "execution_count": 175,
     "metadata": {},
     "output_type": "execute_result"
    }
   ],
   "source": [
    "eduMatrix = makeMatrix(df.education_num, df.education_num.unique())\n",
    "Y = np.zeros(len(eduMatrix))\n",
    "X = np.zeros(len(eduMatrix))\n",
    "i = 0\n",
    "for key, value in eduMatrix.items():\n",
    "    Y[i] = key\n",
    "    X[i] = eduMatrix[key][0]\n",
    "    i+=1\n",
    "plt.bar(Y, X)\n",
    "plt.show()\n",
    "eduMatrix\n",
    "# reasonable results - bachelors = 13, 16 = PhD\n",
    "# we would expect people with more education to have higher earning\n",
    "# jobs"
   ]
  },
  {
   "cell_type": "code",
   "execution_count": 182,
   "metadata": {
    "collapsed": false
   },
   "outputs": [
    {
     "name": "stderr",
     "output_type": "stream",
     "text": [
      "/Library/Frameworks/Python.framework/Versions/3.6/lib/python3.6/site-packages/matplotlib/figure.py:402: UserWarning: matplotlib is currently using a non-GUI backend, so cannot show the figure\n",
      "  \"matplotlib is currently using a non-GUI backend, \"\n"
     ]
    },
    {
     "data": {
      "text/plain": [
       "{'?': [0.8963646228974498, 0.10363537710255019, 1843],\n",
       " 'Adm-clerical': [0.8655172413793103, 0.13448275862068965, 3770],\n",
       " 'Armed-Forces': [0.8888888888888888, 0.1111111111111111, 9],\n",
       " 'Craft-repair': [0.7733593559404733, 0.22664064405952672, 4099],\n",
       " 'Exec-managerial': [0.5159862272503689, 0.4840137727496311, 4066],\n",
       " 'Farming-fishing': [0.8843058350100603, 0.11569416498993963, 994],\n",
       " 'Handlers-cleaners': [0.9372262773722628, 0.06277372262773723, 1370],\n",
       " 'Machine-op-inspct': [0.8751248751248751, 0.12487512487512488, 2002],\n",
       " 'Other-service': [0.958421851289833, 0.04157814871016692, 3295],\n",
       " 'Priv-house-serv': [0.9932885906040269, 0.006711409395973154, 149],\n",
       " 'Prof-specialty': [0.5509661835748793, 0.44903381642512075, 4140],\n",
       " 'Protective-serv': [0.674884437596302, 0.325115562403698, 649],\n",
       " 'Sales': [0.7306849315068493, 0.2693150684931507, 3650],\n",
       " 'Tech-support': [0.6950431034482759, 0.30495689655172414, 928],\n",
       " 'Transport-moving': [0.799624295554164, 0.20037570444583594, 1597]}"
      ]
     },
     "execution_count": 182,
     "metadata": {},
     "output_type": "execute_result"
    },
    {
     "data": {
      "image/png": "[encoded data removed]",
      "text/plain": [
       "<matplotlib.figure.Figure at 0x1158b8748>"
      ]
     },
     "metadata": {},
     "output_type": "display_data"
    }
   ],
   "source": [
    "ocMatrix = makeMatrixPlot(df.occupation, df.occupation.unique())\n",
    "ocMatrix\n",
    "# Doesn't need to be protected because I don't think you can discriminate by\n",
    "# industry? But there is a predictable difference between different types\n",
    "# of jobs - ex: Executives make more that farmers/fisherman"
   ]
  },
  {
   "cell_type": "code",
   "execution_count": 178,
   "metadata": {
    "collapsed": false
   },
   "outputs": [
    {
     "name": "stderr",
     "output_type": "stream",
     "text": [
      "/Library/Frameworks/Python.framework/Versions/3.6/lib/python3.6/site-packages/matplotlib/figure.py:402: UserWarning: matplotlib is currently using a non-GUI backend, so cannot show the figure\n",
      "  \"matplotlib is currently using a non-GUI backend, \"\n"
     ]
    },
    {
     "data": {
      "text/plain": [
       "{'Divorced': [0.8957911321179384, 0.10420886788206167, 4443],\n",
       " 'Married-AF-spouse': [0.5652173913043478, 0.43478260869565216, 23],\n",
       " 'Married-civ-spouse': [0.5531517094017094, 0.4468482905982906, 14976],\n",
       " 'Married-spouse-absent': [0.9186602870813397, 0.08133971291866028, 418],\n",
       " 'Never-married': [0.9540391275858842, 0.04596087241411589, 10683],\n",
       " 'Separated': [0.935609756097561, 0.06439024390243903, 1025],\n",
       " 'Widowed': [0.9144008056394763, 0.08559919436052367, 993]}"
      ]
     },
     "execution_count": 178,
     "metadata": {},
     "output_type": "execute_result"
    },
    {
     "data": {
      "image/png": "[encoded data removed]",
      "text/plain": [
       "<matplotlib.figure.Figure at 0x111d125f8>"
      ]
     },
     "metadata": {},
     "output_type": "display_data"
    }
   ],
   "source": [
    "maritalMatrix = makeMatrixPlot(df.marital, df.marital.unique())\n",
    "maritalMatrix"
   ]
  },
  {
   "cell_type": "code",
   "execution_count": 180,
   "metadata": {
    "collapsed": false
   },
   "outputs": [
    {
     "name": "stderr",
     "output_type": "stream",
     "text": [
      "/Library/Frameworks/Python.framework/Versions/3.6/lib/python3.6/site-packages/matplotlib/figure.py:402: UserWarning: matplotlib is currently using a non-GUI backend, so cannot show the figure\n",
      "  \"matplotlib is currently using a non-GUI backend, \"\n"
     ]
    },
    {
     "data": {
      "text/plain": [
       "{'?': [0.8959694989106753, 0.10403050108932461, 1836],\n",
       " 'Federal-gov': [0.6135416666666667, 0.38645833333333335, 960],\n",
       " 'Local-gov': [0.7052078356426182, 0.29479216435738176, 2093],\n",
       " 'Never-worked': [1.0, 0.0, 7],\n",
       " 'Private': [0.7813271060979908, 0.21867289390200917, 22696],\n",
       " 'Self-emp-inc': [0.44265232974910396, 0.557347670250896, 1116],\n",
       " 'Self-emp-not-inc': [0.7150728059818969, 0.2849271940181031, 2541],\n",
       " 'State-gov': [0.7280431432973806, 0.27195685670261943, 1298],\n",
       " 'Without-pay': [1.0, 0.0, 14]}"
      ]
     },
     "execution_count": 180,
     "metadata": {},
     "output_type": "execute_result"
    },
    {
     "data": {
      "image/png": "[encoded data removed]",
      "text/plain": [
       "<matplotlib.figure.Figure at 0x113909550>"
      ]
     },
     "metadata": {},
     "output_type": "display_data"
    }
   ],
   "source": [
    "employerMatrix = makeMatrixPlot(df.type_employer, df.type_employer.unique())\n",
    "employerMatrix"
   ]
  },
  {
   "cell_type": "code",
   "execution_count": 183,
   "metadata": {
    "collapsed": false
   },
   "outputs": [
    {
     "name": "stderr",
     "output_type": "stream",
     "text": [
      "/Library/Frameworks/Python.framework/Versions/3.6/lib/python3.6/site-packages/matplotlib/figure.py:402: UserWarning: matplotlib is currently using a non-GUI backend, so cannot show the figure\n",
      "  \"matplotlib is currently using a non-GUI backend, \"\n"
     ]
    },
    {
     "data": {
      "text/plain": [
       "{'Husband': [0.551428787993633, 0.448571212006367, 13193],\n",
       " 'Not-in-family': [0.8969295605057195, 0.10307043949428056, 8305],\n",
       " 'Other-relative': [0.9622833843017329, 0.03771661569826707, 981],\n",
       " 'Own-child': [0.9867797947908445, 0.013220205209155485, 5068],\n",
       " 'Unmarried': [0.9367382472431804, 0.0632617527568195, 3446],\n",
       " 'Wife': [0.5248724489795918, 0.47512755102040816, 1568]}"
      ]
     },
     "execution_count": 183,
     "metadata": {},
     "output_type": "execute_result"
    },
    {
     "data": {
      "image/png": "[encoded data removed]",
      "text/plain": [
       "<matplotlib.figure.Figure at 0x1116efac8>"
      ]
     },
     "metadata": {},
     "output_type": "display_data"
    }
   ],
   "source": [
    "relationshipMatrix = makeMatrixPlot(df.relationship, df.relationship.unique())\n",
    "relationshipMatrix"
   ]
  },
  {
   "cell_type": "code",
   "execution_count": 186,
   "metadata": {
    "collapsed": false
   },
   "outputs": [
    {
     "data": {
      "image/png": "[encoded data removed]",
      "text/plain": [
       "<matplotlib.figure.Figure at 0x113185f98>"
      ]
     },
     "metadata": {},
     "output_type": "display_data"
    },
    {
     "data": {
      "text/plain": [
       "{1: [0.9, 0.1, 20],\n",
       " 2: [0.75, 0.25, 32],\n",
       " 3: [0.9743589743589743, 0.02564102564102564, 39],\n",
       " 4: [0.9444444444444444, 0.05555555555555555, 54],\n",
       " 5: [0.8833333333333333, 0.11666666666666667, 60],\n",
       " 6: [0.875, 0.125, 64],\n",
       " 7: [0.8461538461538461, 0.15384615384615385, 26],\n",
       " 8: [0.9241379310344827, 0.07586206896551724, 145],\n",
       " 9: [0.9444444444444444, 0.05555555555555555, 18],\n",
       " 10: [0.9280575539568345, 0.07194244604316546, 278],\n",
       " 11: [1.0, 0.0, 11],\n",
       " 12: [0.930635838150289, 0.06936416184971098, 173],\n",
       " 13: [0.9130434782608695, 0.08695652173913043, 23],\n",
       " 14: [0.9411764705882353, 0.058823529411764705, 34],\n",
       " 15: [0.9628712871287128, 0.03712871287128713, 404],\n",
       " 16: [0.9365853658536586, 0.06341463414634146, 205],\n",
       " 17: [0.9655172413793104, 0.034482758620689655, 29],\n",
       " 18: [0.9066666666666666, 0.09333333333333334, 75],\n",
       " 19: [1.0, 0.0, 14],\n",
       " 20: [0.9362745098039216, 0.06372549019607843, 1224],\n",
       " 21: [0.9166666666666666, 0.08333333333333333, 24],\n",
       " 22: [0.9090909090909091, 0.09090909090909091, 44],\n",
       " 23: [1.0, 0.0, 21],\n",
       " 24: [0.9087301587301587, 0.09126984126984126, 252],\n",
       " 25: [0.9480712166172107, 0.05192878338278932, 674],\n",
       " 26: [0.8666666666666667, 0.13333333333333333, 30],\n",
       " 27: [0.9666666666666667, 0.03333333333333333, 30],\n",
       " 28: [0.9418604651162791, 0.05813953488372093, 86],\n",
       " 29: [0.8571428571428571, 0.14285714285714285, 7],\n",
       " 30: [0.927763272410792, 0.072236727589208, 1149],\n",
       " 31: [1.0, 0.0, 5],\n",
       " 32: [0.8947368421052632, 0.10526315789473684, 266],\n",
       " 33: [0.8974358974358975, 0.10256410256410256, 39],\n",
       " 34: [0.9285714285714286, 0.07142857142857142, 28],\n",
       " 35: [0.8496530454895914, 0.15034695451040864, 1297],\n",
       " 36: [0.8045454545454546, 0.19545454545454546, 220],\n",
       " 37: [0.8657718120805369, 0.1342281879194631, 149],\n",
       " 38: [0.819327731092437, 0.18067226890756302, 476],\n",
       " 39: [0.8157894736842105, 0.18421052631578946, 38],\n",
       " 40: [0.7866202273772754, 0.2133797726227246, 15217],\n",
       " 41: [0.8055555555555556, 0.19444444444444445, 36],\n",
       " 42: [0.680365296803653, 0.319634703196347, 219],\n",
       " 43: [0.7417218543046358, 0.2582781456953642, 151],\n",
       " 44: [0.6509433962264151, 0.3490566037735849, 212],\n",
       " 45: [0.6244517543859649, 0.3755482456140351, 1824],\n",
       " 46: [0.6585365853658537, 0.34146341463414637, 82],\n",
       " 47: [0.6938775510204082, 0.30612244897959184, 49],\n",
       " 48: [0.7059961315280464, 0.2940038684719536, 517],\n",
       " 49: [0.7931034482758621, 0.20689655172413793, 29],\n",
       " 50: [0.5473572188719404, 0.4526427811280596, 2819],\n",
       " 51: [0.7692307692307693, 0.23076923076923078, 13],\n",
       " 52: [0.6521739130434783, 0.34782608695652173, 138],\n",
       " 53: [0.76, 0.24, 25],\n",
       " 54: [0.6585365853658537, 0.34146341463414637, 41],\n",
       " 55: [0.5345821325648416, 0.4654178674351585, 694],\n",
       " 56: [0.5876288659793815, 0.41237113402061853, 97],\n",
       " 57: [0.5882352941176471, 0.4117647058823529, 17],\n",
       " 58: [0.6785714285714286, 0.32142857142857145, 28],\n",
       " 59: [0.6, 0.4, 5],\n",
       " 60: [0.560677966101695, 0.4393220338983051, 1475],\n",
       " 61: [0.0, 1.0, 2],\n",
       " 62: [0.7777777777777778, 0.2222222222222222, 18],\n",
       " 63: [0.7, 0.3, 10],\n",
       " 64: [0.6428571428571429, 0.35714285714285715, 14],\n",
       " 65: [0.5737704918032787, 0.4262295081967213, 244],\n",
       " 66: [0.8823529411764706, 0.11764705882352941, 17],\n",
       " 67: [0.25, 0.75, 4],\n",
       " 68: [0.5833333333333334, 0.4166666666666667, 12],\n",
       " 70: [0.6357388316151202, 0.3642611683848797, 291],\n",
       " 72: [0.647887323943662, 0.352112676056338, 71],\n",
       " 73: [0.5, 0.5, 2],\n",
       " 74: [1.0, 0.0, 1],\n",
       " 75: [0.696969696969697, 0.30303030303030304, 66],\n",
       " 76: [0.3333333333333333, 0.6666666666666666, 3],\n",
       " 77: [1.0, 0.0, 6],\n",
       " 78: [0.75, 0.25, 8],\n",
       " 80: [0.5714285714285714, 0.42857142857142855, 133],\n",
       " 81: [1.0, 0.0, 3],\n",
       " 82: [1.0, 0.0, 1],\n",
       " 84: [0.6222222222222222, 0.37777777777777777, 45],\n",
       " 85: [0.6923076923076923, 0.3076923076923077, 13],\n",
       " 86: [1.0, 0.0, 2],\n",
       " 87: [1.0, 0.0, 1],\n",
       " 88: [1.0, 0.0, 2],\n",
       " 89: [0.5, 0.5, 2],\n",
       " 90: [0.6551724137931034, 0.3448275862068966, 29],\n",
       " 91: [1.0, 0.0, 3],\n",
       " 92: [1.0, 0.0, 1],\n",
       " 94: [1.0, 0.0, 1],\n",
       " 95: [0.5, 0.5, 2],\n",
       " 96: [0.8, 0.2, 5],\n",
       " 97: [0.5, 0.5, 2],\n",
       " 98: [0.7272727272727273, 0.2727272727272727, 11],\n",
       " 99: [0.7058823529411765, 0.29411764705882354, 85]}"
      ]
     },
     "execution_count": 186,
     "metadata": {},
     "output_type": "execute_result"
    }
   ],
   "source": [
    "hrMatrix = makeMatrix(df.hr_per_week, df.hr_per_week.unique())\n",
    "Y = np.zeros(len(hrMatrix))\n",
    "X = np.zeros(len(hrMatrix))\n",
    "i = 0\n",
    "for key, value in hrMatrix.items():\n",
    "    Y[i] = key\n",
    "    X[i] = hrMatrix[key][0]\n",
    "    i+=1\n",
    "plt.bar(Y, X)\n",
    "plt.show()\n",
    "hrMatrix"
   ]
  },
  {
   "cell_type": "code",
   "execution_count": 185,
   "metadata": {
    "collapsed": false
   },
   "outputs": [
    {
     "name": "stderr",
     "output_type": "stream",
     "text": [
      "/Library/Frameworks/Python.framework/Versions/3.6/lib/python3.6/site-packages/matplotlib/figure.py:402: UserWarning: matplotlib is currently using a non-GUI backend, so cannot show the figure\n",
      "  \"matplotlib is currently using a non-GUI backend, \"\n"
     ]
    },
    {
     "data": {
      "text/plain": [
       "{'?': [0.7495711835334476, 0.2504288164665523, 583],\n",
       " 'Cambodia': [0.631578947368421, 0.3684210526315789, 19],\n",
       " 'Canada': [0.6776859504132231, 0.32231404958677684, 121],\n",
       " 'China': [0.7333333333333333, 0.26666666666666666, 75],\n",
       " 'Columbia': [0.9661016949152542, 0.03389830508474576, 59],\n",
       " 'Cuba': [0.7368421052631579, 0.2631578947368421, 95],\n",
       " 'Dominican-Republic': [0.9714285714285714, 0.02857142857142857, 70],\n",
       " 'Ecuador': [0.8571428571428571, 0.14285714285714285, 28],\n",
       " 'El-Salvador': [0.9150943396226415, 0.08490566037735849, 106],\n",
       " 'England': [0.6666666666666666, 0.3333333333333333, 90],\n",
       " 'France': [0.5862068965517241, 0.41379310344827586, 29],\n",
       " 'Germany': [0.6788321167883211, 0.32116788321167883, 137],\n",
       " 'Greece': [0.7241379310344828, 0.27586206896551724, 29],\n",
       " 'Guatemala': [0.953125, 0.046875, 64],\n",
       " 'Haiti': [0.9090909090909091, 0.09090909090909091, 44],\n",
       " 'Holand-Netherlands': [1.0, 0.0, 1],\n",
       " 'Honduras': [0.9230769230769231, 0.07692307692307693, 13],\n",
       " 'Hong': [0.7, 0.3, 20],\n",
       " 'Hungary': [0.7692307692307693, 0.23076923076923078, 13],\n",
       " 'India': [0.6, 0.4, 100],\n",
       " 'Iran': [0.5813953488372093, 0.4186046511627907, 43],\n",
       " 'Ireland': [0.7916666666666666, 0.20833333333333334, 24],\n",
       " 'Italy': [0.6575342465753424, 0.3424657534246575, 73],\n",
       " 'Jamaica': [0.8765432098765432, 0.12345679012345678, 81],\n",
       " 'Japan': [0.6129032258064516, 0.3870967741935484, 62],\n",
       " 'Laos': [0.8888888888888888, 0.1111111111111111, 18],\n",
       " 'Mexico': [0.9486780715396579, 0.05132192846034215, 643],\n",
       " 'Nicaragua': [0.9411764705882353, 0.058823529411764705, 34],\n",
       " 'Outlying-US(Guam-USVI-etc)': [1.0, 0.0, 14],\n",
       " 'Peru': [0.9354838709677419, 0.06451612903225806, 31],\n",
       " 'Philippines': [0.6919191919191919, 0.30808080808080807, 198],\n",
       " 'Poland': [0.8, 0.2, 60],\n",
       " 'Portugal': [0.8918918918918919, 0.10810810810810811, 37],\n",
       " 'Puerto-Rico': [0.8947368421052632, 0.10526315789473684, 114],\n",
       " 'Scotland': [0.75, 0.25, 12],\n",
       " 'South': [0.8, 0.2, 80],\n",
       " 'Taiwan': [0.6078431372549019, 0.39215686274509803, 51],\n",
       " 'Thailand': [0.8333333333333334, 0.16666666666666666, 18],\n",
       " 'Trinadad&Tobago': [0.8947368421052632, 0.10526315789473684, 19],\n",
       " 'United-States': [0.7541652382584847, 0.24583476174151525, 29170],\n",
       " 'Vietnam': [0.9253731343283582, 0.07462686567164178, 67],\n",
       " 'Yugoslavia': [0.625, 0.375, 16]}"
      ]
     },
     "execution_count": 185,
     "metadata": {},
     "output_type": "execute_result"
    },
    {
     "data": {
      "image/png": "[encoded data removed]",
      "text/plain": [
       "<matplotlib.figure.Figure at 0x1121270b8>"
      ]
     },
     "metadata": {},
     "output_type": "display_data"
    }
   ],
   "source": [
    "countryMatrix = makeMatrixPlot(df.country, df.country.unique())\n",
    "countryMatrix"
   ]
  },
  {
   "cell_type": "code",
   "execution_count": null,
   "metadata": {
    "collapsed": true
   },
   "outputs": [],
   "source": []
  }
 ],
 "metadata": {
  "kernelspec": {
   "display_name": "Python 3",
   "language": "python",
   "name": "python3"
  },
  "language_info": {
   "codemirror_mode": {
    "name": "ipython",
    "version": 3
   },
   "file_extension": ".py",
   "mimetype": "text/x-python",
   "name": "python",
   "nbconvert_exporter": "python",
   "pygments_lexer": "ipython3",
   "version": "3.6.0"
  }
 },
 "nbformat": 4,
 "nbformat_minor": 1
}
