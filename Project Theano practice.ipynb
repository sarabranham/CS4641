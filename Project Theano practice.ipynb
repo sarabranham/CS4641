{
 "cells": [
  {
   "cell_type": "code",
   "execution_count": 14,
   "metadata": {},
   "outputs": [],
   "source": [
    "import numpy as np\n",
    "import pandas as pd\n",
    "from theano import *\n",
    "from theano.ifelse import ifelse\n",
    "import theano.tensor as T"
   ]
  },
  {
   "cell_type": "code",
   "execution_count": 15,
   "metadata": {},
   "outputs": [],
   "source": [
    "def sigmoid(a):\n",
    "    \"\"\" Compute the sigmoid function\n",
    "        Note: use the exponential function from the numpy library (i.e. np.exp()) \n",
    "              in your sigmoid function. This allows the function to compute the \n",
    "              sigmoid values (element-wise) for an array of numbers.\n",
    "        \n",
    "        Parameters: \n",
    "            a: the input value\n",
    "        \n",
    "        Output: \n",
    "            1 / (1 + e^(-a))\n",
    "    \"\"\"\n",
    "    \n",
    "    # TODO: Your implementation goes here\n",
    "    return 1/(1+np.exp(-a))\n",
    "    # For all functions, remove this statement when you implement the function"
   ]
  },
  {
   "cell_type": "code",
   "execution_count": 16,
   "metadata": {},
   "outputs": [],
   "source": [
    "def sigmoid_derivative(a):\n",
    "    \"\"\" Compute the value of the derivative of a sigmoid function\n",
    "        Note: you can use the above function here\n",
    "        \n",
    "        Parameters: \n",
    "            a: the input value\n",
    "        \n",
    "        Output: \n",
    "            derivative of the sigmoid function applied to 'a'\n",
    "    \"\"\"\n",
    "    # TODO: Your implementation goes here\n",
    "    return np.multiply(sigmoid(a),(1-sigmoid(a)))"
   ]
  },
  {
   "cell_type": "code",
   "execution_count": 18,
   "metadata": {},
   "outputs": [
    {
     "name": "stdout",
     "output_type": "stream",
     "text": [
      "       salary\n",
      "0           0\n",
      "1           0\n",
      "2           0\n",
      "3           0\n",
      "4           0\n",
      "5           0\n",
      "6           0\n",
      "7           1\n",
      "8           1\n",
      "9           1\n",
      "10          1\n",
      "11          1\n",
      "12          0\n",
      "13          0\n",
      "14          1\n",
      "15          0\n",
      "16          0\n",
      "17          0\n",
      "18          0\n",
      "19          1\n",
      "20          1\n",
      "21          0\n",
      "22          0\n",
      "23          0\n",
      "24          0\n",
      "25          1\n",
      "26          0\n",
      "27          1\n",
      "28          0\n",
      "29          0\n",
      "...       ...\n",
      "32531       0\n",
      "32532       1\n",
      "32533       1\n",
      "32534       0\n",
      "32535       0\n",
      "32536       1\n",
      "32537       0\n",
      "32538       1\n",
      "32539       1\n",
      "32540       0\n",
      "32541       0\n",
      "32542       0\n",
      "32543       0\n",
      "32544       0\n",
      "32545       1\n",
      "32546       0\n",
      "32547       0\n",
      "32548       0\n",
      "32549       0\n",
      "32550       0\n",
      "32551       0\n",
      "32552       0\n",
      "32553       0\n",
      "32554       1\n",
      "32555       0\n",
      "32556       0\n",
      "32557       1\n",
      "32558       0\n",
      "32559       0\n",
      "32560       1\n",
      "\n",
      "[32561 rows x 1 columns]\n"
     ]
    }
   ],
   "source": [
    "input_file = \"adult_encoded.txt\"\n",
    "df = pd.read_csv(input_file, header=0)\n",
    "Y = df.loc[:, df.columns == \"salary\"]\n",
    "print Y\n",
    "\n",
    "x = T.vector('x')\n",
    "w = T.vector('w')\n",
    "b = T.scalar('b')\n",
    "\n",
    "z = T.dot(x,w)+b\n",
    "a = ifelse(T.lt(z,0),0,1)\n",
    "\n",
    "neuron = theano.function([x,w,b],a)"
   ]
  },
  {
   "cell_type": "code",
   "execution_count": null,
   "metadata": {},
   "outputs": [],
   "source": []
  }
 ],
 "metadata": {
  "kernelspec": {
   "display_name": "Python 2",
   "language": "python",
   "name": "python2"
  },
  "language_info": {
   "codemirror_mode": {
    "name": "ipython",
    "version": 2
   },
   "file_extension": ".py",
   "mimetype": "text/x-python",
   "name": "python",
   "nbconvert_exporter": "python",
   "pygments_lexer": "ipython2",
   "version": "2.7.14"
  }
 },
 "nbformat": 4,
 "nbformat_minor": 2
}
